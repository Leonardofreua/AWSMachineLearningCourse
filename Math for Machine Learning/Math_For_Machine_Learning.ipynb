{
 "cells": [
  {
   "cell_type": "markdown",
   "metadata": {},
   "source": [
    "# Machine Learning Pipeline\n",
    "![Pipeline](./images/MachineLearningPipeline.jpg)\n",
    "\n",
    "### Phase 1: Data Processing\n",
    "\n",
    "This is where you format data in a way algorithms can ingest. Uses linear algebra.\n",
    "\n",
    "![Data Processing](./images/DataProcessing.jpg)\n",
    "\n",
    "### Phase 2: Feature Engineering and Selection\n",
    "\n",
    "This is where you transform data to make it easy for algorithms to understand. Uses vectors and Matrices.\n",
    "\n",
    "![Feature Engineering and Selection](./images/FeatureEnginneringAndSelecion.jpg)\n",
    "\n",
    "### Phase 3: Modeling\n",
    "\n",
    "This is where you define the problem in a way the algorithm can optimize. Uses geometry, probability, norms, and statistcs.\n",
    "\n",
    "![Modeling](./images/Modeling.jpg)\n",
    "\n",
    "### Phase 4: Optimization\n",
    "\n",
    "This is where you iterate until certain conditions are met, and then you choose the best model. Uses vector calculus.\n",
    "\n",
    "![Modeling](./images/Optimization.jpg)"
   ]
  },
  {
   "cell_type": "code",
   "execution_count": 1,
   "metadata": {},
   "outputs": [],
   "source": [
    "import numpy as np\n",
    "\n",
    "v = [1, 2, 3]\n",
    "\n",
    "A = [[1, 2, 3], [-1, 0, 1], [1, 1, 1]]"
   ]
  },
  {
   "cell_type": "code",
   "execution_count": 7,
   "metadata": {},
   "outputs": [
    {
     "data": {
      "text/plain": [
       "array([1, 2, 3])"
      ]
     },
     "execution_count": 7,
     "metadata": {},
     "output_type": "execute_result"
    }
   ],
   "source": [
    "np.array(v)"
   ]
  },
  {
   "cell_type": "code",
   "execution_count": 11,
   "metadata": {},
   "outputs": [
    {
     "name": "stdout",
     "output_type": "stream",
     "text": [
      "6.0\n",
      "3.7416573867739413\n",
      "3.0\n"
     ]
    }
   ],
   "source": [
    "# L_p-Norms of vectors are done by the following:\n",
    "print(np.linalg.norm(v,ord=1)) #L_1\n",
    "print(np.linalg.norm(v,ord=2)) #L_2\n",
    "print(np.linalg.norm(v,ord=np.inf)) #L_inf"
   ]
  },
  {
   "cell_type": "code",
   "execution_count": 12,
   "metadata": {},
   "outputs": [
    {
     "name": "stdout",
     "output_type": "stream",
     "text": [
      "4.358898943540674\n"
     ]
    }
   ],
   "source": [
    "print(np.linalg.norm(A)) #L_2"
   ]
  },
  {
   "cell_type": "markdown",
   "metadata": {},
   "source": [
    "# Matrices"
   ]
  },
  {
   "cell_type": "markdown",
   "metadata": {},
   "source": [
    "## Dot Products\n",
    "\n",
    "In mathematics, the **dot product** or **scalar product** is an algebraic operation that takes two equal-length sequences of numbers (usually coordinate vectors) and returns a single number. In Euclidean geometry, the dot product of the Cartesian coordinates of two vectors is widely used and often called \"the\" inner product (or rarely projection product) of Euclidean space even though it is not the only inner product that can be defined on Euclidean space;\n",
    "\n",
    "Algebraically, the dot product is the sum of the products of the corresponding entries of the two sequences of numbers. Geometrically, it is the product of the Euclidean magnitudes of the two vectors and the cosine of the angle between them. These definitions are equivalent when using Cartesian coordinates. In modern geometry, Euclidean spaces are often defined by using vector spaces. In this case, the dot product is used for defining lengths (the length of a vector is the square root of the dot product of the vector by itself) and angles (the cosine of the angle of two vectors is the quotient of their dot product by the product of their lengths).\n",
    "\n",
    "### Definition\n",
    "![Dot Product Definition](./images/dotProductDefinition.jpg)"
   ]
  },
  {
   "cell_type": "code",
   "execution_count": 8,
   "metadata": {},
   "outputs": [
    {
     "name": "stdout",
     "output_type": "stream",
     "text": [
      "First Dot Product = 12\n",
      "Second Dot Product = (-13+0j)\n"
     ]
    }
   ],
   "source": [
    "import numpy as np\n",
    "\n",
    "print('First Dot Product =', np.dot(3, 4))\n",
    "print('Second Dot Product =', np.dot([2j, 3j], [2j, 3j]))"
   ]
  }
 ],
 "metadata": {
  "kernelspec": {
   "display_name": "Python 3",
   "language": "python",
   "name": "python3"
  },
  "language_info": {
   "codemirror_mode": {
    "name": "ipython",
    "version": 3
   },
   "file_extension": ".py",
   "mimetype": "text/x-python",
   "name": "python",
   "nbconvert_exporter": "python",
   "pygments_lexer": "ipython3",
   "version": "3.6.8"
  }
 },
 "nbformat": 4,
 "nbformat_minor": 2
}
