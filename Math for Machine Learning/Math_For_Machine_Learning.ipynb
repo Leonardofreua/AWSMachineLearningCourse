{
 "cells": [
  {
   "cell_type": "markdown",
   "metadata": {},
   "source": [
    "# Machine Learning Pipeline\n",
    "![Pipeline](./images/MachineLearningPipeline.jpg)\n",
    "\n",
    ">### Phase 1: Data Processing\n",
    "```\n",
    "    This is where you format data in a way algorithms can ingest. Uses linear algebra.\n",
    "```\n",
    "![Data Processing](./images/DataProcessing.jpg)\n",
    "\n",
    ">### Phase 2: Feature Engineering and Selection\n",
    "```\n",
    "    This is where you transform data to make it easy for algorithms to understand. Uses vectors and Matrices.\n",
    "```\n",
    "\n",
    "![Feature Engineering and Selection](./images/FeatureEnginneringAndSelecion.jpg)\n",
    "\n",
    ">### Phase 3: Modeling\n",
    "```\n",
    "    This is where you define the problem in a way the algorithm can optimize. Uses geometry, probability, norms, and statistcs.\n",
    "```\n",
    "\n",
    "![Modeling](./images/Modeling.jpg)\n",
    "\n",
    ">### Phase 4: Optimization\n",
    "```\n",
    "    This is where you iterate until certain conditions are met, and then you choose the best model. Uses vector calculus.\n",
    "```\n",
    "\n",
    "![Modeling](./images/Optimization.jpg)"
   ]
  },
  {
   "cell_type": "code",
   "execution_count": 1,
   "metadata": {},
   "outputs": [],
   "source": [
    "import numpy as np\n",
    "\n",
    "v = [1, 2, 3]\n",
    "\n",
    "A = [[1, 2, 3], [-1, 0, 1], [1, 1, 1]]"
   ]
  },
  {
   "cell_type": "code",
   "execution_count": 7,
   "metadata": {},
   "outputs": [
    {
     "data": {
      "text/plain": [
       "array([1, 2, 3])"
      ]
     },
     "execution_count": 7,
     "metadata": {},
     "output_type": "execute_result"
    }
   ],
   "source": [
    "np.array(v)"
   ]
  },
  {
   "cell_type": "code",
   "execution_count": 11,
   "metadata": {},
   "outputs": [
    {
     "name": "stdout",
     "output_type": "stream",
     "text": [
      "6.0\n",
      "3.7416573867739413\n",
      "3.0\n"
     ]
    }
   ],
   "source": [
    "# L_p-Norms of vectors are done by the following:\n",
    "print(np.linalg.norm(v,ord=1)) #L_1\n",
    "print(np.linalg.norm(v,ord=2)) #L_2\n",
    "print(np.linalg.norm(v,ord=np.inf)) #L_inf"
   ]
  },
  {
   "cell_type": "code",
   "execution_count": 12,
   "metadata": {},
   "outputs": [
    {
     "name": "stdout",
     "output_type": "stream",
     "text": [
      "4.358898943540674\n"
     ]
    }
   ],
   "source": [
    "print(np.linalg.norm(A)) #L_2"
   ]
  }
 ],
 "metadata": {
  "kernelspec": {
   "display_name": "Python 3",
   "language": "python",
   "name": "python3"
  },
  "language_info": {
   "codemirror_mode": {
    "name": "ipython",
    "version": 3
   },
   "file_extension": ".py",
   "mimetype": "text/x-python",
   "name": "python",
   "nbconvert_exporter": "python",
   "pygments_lexer": "ipython3",
   "version": "3.6.8"
  }
 },
 "nbformat": 4,
 "nbformat_minor": 2
}
